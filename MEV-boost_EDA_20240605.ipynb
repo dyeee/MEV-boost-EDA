{
 "cells": [
  {
   "cell_type": "code",
   "execution_count": 1,
   "id": "c8e2d4de-ea2b-4c0a-91f4-758fcd69abfb",
   "metadata": {},
   "outputs": [
    {
     "name": "stdout",
     "output_type": "stream",
     "text": [
      "Requirement already satisfied: seaborn in c:\\users\\she99\\anaconda3\\envs\\env1\\lib\\site-packages (0.13.2)\n",
      "Requirement already satisfied: numpy!=1.24.0,>=1.20 in c:\\users\\she99\\anaconda3\\envs\\env1\\lib\\site-packages (from seaborn) (1.26.2)\n",
      "Requirement already satisfied: pandas>=1.2 in c:\\users\\she99\\anaconda3\\envs\\env1\\lib\\site-packages (from seaborn) (2.1.4)\n",
      "Requirement already satisfied: matplotlib!=3.6.1,>=3.4 in c:\\users\\she99\\anaconda3\\envs\\env1\\lib\\site-packages (from seaborn) (3.8.0)\n",
      "Requirement already satisfied: contourpy>=1.0.1 in c:\\users\\she99\\anaconda3\\envs\\env1\\lib\\site-packages (from matplotlib!=3.6.1,>=3.4->seaborn) (1.2.0)\n",
      "Requirement already satisfied: cycler>=0.10 in c:\\users\\she99\\anaconda3\\envs\\env1\\lib\\site-packages (from matplotlib!=3.6.1,>=3.4->seaborn) (0.11.0)\n",
      "Requirement already satisfied: fonttools>=4.22.0 in c:\\users\\she99\\anaconda3\\envs\\env1\\lib\\site-packages (from matplotlib!=3.6.1,>=3.4->seaborn) (4.25.0)\n",
      "Requirement already satisfied: kiwisolver>=1.0.1 in c:\\users\\she99\\anaconda3\\envs\\env1\\lib\\site-packages (from matplotlib!=3.6.1,>=3.4->seaborn) (1.4.4)\n",
      "Requirement already satisfied: packaging>=20.0 in c:\\users\\she99\\anaconda3\\envs\\env1\\lib\\site-packages (from matplotlib!=3.6.1,>=3.4->seaborn) (23.1)\n",
      "Requirement already satisfied: pillow>=6.2.0 in c:\\users\\she99\\anaconda3\\envs\\env1\\lib\\site-packages (from matplotlib!=3.6.1,>=3.4->seaborn) (10.0.1)\n",
      "Requirement already satisfied: pyparsing>=2.3.1 in c:\\users\\she99\\anaconda3\\envs\\env1\\lib\\site-packages (from matplotlib!=3.6.1,>=3.4->seaborn) (3.0.9)\n",
      "Requirement already satisfied: python-dateutil>=2.7 in c:\\users\\she99\\anaconda3\\envs\\env1\\lib\\site-packages (from matplotlib!=3.6.1,>=3.4->seaborn) (2.8.2)\n",
      "Requirement already satisfied: pytz>=2020.1 in c:\\users\\she99\\anaconda3\\envs\\env1\\lib\\site-packages (from pandas>=1.2->seaborn) (2023.3.post1)\n",
      "Requirement already satisfied: tzdata>=2022.1 in c:\\users\\she99\\anaconda3\\envs\\env1\\lib\\site-packages (from pandas>=1.2->seaborn) (2023.3)\n",
      "Requirement already satisfied: six>=1.5 in c:\\users\\she99\\anaconda3\\envs\\env1\\lib\\site-packages (from python-dateutil>=2.7->matplotlib!=3.6.1,>=3.4->seaborn) (1.16.0)\n"
     ]
    }
   ],
   "source": [
    "!pip install seaborn"
   ]
  },
  {
   "cell_type": "code",
   "execution_count": 2,
   "id": "dffd705e-5101-44d0-b157-ee3f61ac35c6",
   "metadata": {},
   "outputs": [],
   "source": [
    "import pandas as pd\n",
    "import seaborn as sns\n",
    "import matplotlib.pyplot as plt\n",
    "\n",
    "bids_df = pd.read_csv(\"Eden_MEV-boost_bid_20240324_0050.csv\")\n",
    "payload_df = pd.read_csv(\"Eden_MEV-boost_payload_20240324-20240322.csv\")\n",
    "df = pd.read_csv(\"Eden_MEV-boost_payload_20240324-20230722.csv\")"
   ]
  },
  {
   "cell_type": "code",
   "execution_count": 3,
   "id": "a199006e-f1df-4e45-99cd-41ab0e163f53",
   "metadata": {},
   "outputs": [
    {
     "ename": "NameError",
     "evalue": "name 'df' is not defined",
     "output_type": "error",
     "traceback": [
      "\u001b[1;31m---------------------------------------------------------------------------\u001b[0m",
      "\u001b[1;31mNameError\u001b[0m                                 Traceback (most recent call last)",
      "Cell \u001b[1;32mIn[3], line 6\u001b[0m\n\u001b[0;32m      4\u001b[0m bids_df[\u001b[38;5;124m'\u001b[39m\u001b[38;5;124mblock_timestamp\u001b[39m\u001b[38;5;124m'\u001b[39m] \u001b[38;5;241m=\u001b[39m pd\u001b[38;5;241m.\u001b[39mto_datetime(bids_df[\u001b[38;5;124m'\u001b[39m\u001b[38;5;124mblock_timestamp\u001b[39m\u001b[38;5;124m'\u001b[39m], \u001b[38;5;28mformat\u001b[39m\u001b[38;5;241m=\u001b[39m\u001b[38;5;124m'\u001b[39m\u001b[38;5;124mmixed\u001b[39m\u001b[38;5;124m'\u001b[39m)\n\u001b[0;32m      5\u001b[0m bids_df[\u001b[38;5;124m'\u001b[39m\u001b[38;5;124mtimestamp\u001b[39m\u001b[38;5;124m'\u001b[39m] \u001b[38;5;241m=\u001b[39m pd\u001b[38;5;241m.\u001b[39mto_datetime(bids_df[\u001b[38;5;124m'\u001b[39m\u001b[38;5;124mtimestamp\u001b[39m\u001b[38;5;124m'\u001b[39m], \u001b[38;5;28mformat\u001b[39m\u001b[38;5;241m=\u001b[39m\u001b[38;5;124m'\u001b[39m\u001b[38;5;124mmixed\u001b[39m\u001b[38;5;124m'\u001b[39m)\n\u001b[1;32m----> 6\u001b[0m df[\u001b[38;5;124m'\u001b[39m\u001b[38;5;124mblock_timestamp\u001b[39m\u001b[38;5;124m'\u001b[39m] \u001b[38;5;241m=\u001b[39m pd\u001b[38;5;241m.\u001b[39mto_datetime(df[\u001b[38;5;124m'\u001b[39m\u001b[38;5;124mblock_timestamp\u001b[39m\u001b[38;5;124m'\u001b[39m])\n\u001b[0;32m      7\u001b[0m df_origin \u001b[38;5;241m=\u001b[39m df\n",
      "\u001b[1;31mNameError\u001b[0m: name 'df' is not defined"
     ]
    }
   ],
   "source": [
    "bids_df['value'] = bids_df['value'].astype('float')\n",
    "payload_df['value'] = payload_df['value'].astype('float')\n",
    "payload_df['block_timestamp'] = pd.to_datetime(payload_df['block_timestamp'])\n",
    "bids_df['block_timestamp'] = pd.to_datetime(bids_df['block_timestamp'], format='mixed')\n",
    "bids_df['timestamp'] = pd.to_datetime(bids_df['timestamp'], format='mixed')\n",
    "df['block_timestamp'] = pd.to_datetime(df['block_timestamp'])\n",
    "df_origin = df"
   ]
  },
  {
   "cell_type": "markdown",
   "id": "b1edcefe-974d-479a-ab7c-6cc3681756ce",
   "metadata": {},
   "source": [
    "# 1. EDA of MEV-boost Payloads"
   ]
  },
  {
   "cell_type": "markdown",
   "id": "29329ff2-0032-4108-84f7-237abfbebcc8",
   "metadata": {},
   "source": [
    "### 1-1 The bar charts of value/num_tx/gas_used trends within a day, using payloads data from 3/22 to 3/24, 2024."
   ]
  },
  {
   "cell_type": "code",
   "execution_count": null,
   "id": "014f804f-6003-4e36-8016-3441dc47218f",
   "metadata": {},
   "outputs": [],
   "source": [
    "payload_df['block_timestamp_seconds'] = payload_df['block_timestamp'].dt.hour * 3600 + payload_df['block_timestamp'].dt.minute * 60 + payload_df['block_timestamp'].dt.second\n",
    "date_range = ['2024-03-24', '2024-03-23', '2024-03-22']\n",
    "n_days = len(date_range)\n",
    "payload_df_drop = payload_df[payload_df['block_timestamp'].dt.date.astype(str).isin(date_range)].drop_duplicates(subset=['block_timestamp'])"
   ]
  },
  {
   "cell_type": "code",
   "execution_count": null,
   "id": "7dc847aa-008d-4f22-8a4b-4837503eecb1",
   "metadata": {},
   "outputs": [],
   "source": [
    "# value\n",
    "plt.figure(figsize=(10, 6))\n",
    "plt.hist(payload_df_drop['block_timestamp_seconds'] / 3600, bins=range(0, 25), weights=payload_df_drop['value']/n_days, edgecolor='black', alpha=0.7)\n",
    "\n",
    "plt.title('Histogram of Value by Block Timestamp (hours)')\n",
    "plt.xlabel('Block Timestamp (hours)')\n",
    "plt.ylabel('Value')\n",
    "\n",
    "plt.show()"
   ]
  },
  {
   "cell_type": "code",
   "execution_count": null,
   "id": "84752d03-a6b2-4499-8c29-e40d54e1afbf",
   "metadata": {},
   "outputs": [],
   "source": [
    "# num_tx\n",
    "plt.figure(figsize=(10, 6))\n",
    "plt.hist(payload_df_drop['block_timestamp_seconds'] / 3600, bins=range(0, 25), weights=payload_df_drop['num_tx']/n_days, edgecolor='black', alpha=0.7)\n",
    "\n",
    "plt.title('Histogram of num_tx by Block Timestamp (hours)')\n",
    "plt.xlabel('Block Timestamp (hours)')\n",
    "plt.ylabel('num_tx')\n",
    "\n",
    "plt.show()"
   ]
  },
  {
   "cell_type": "code",
   "execution_count": null,
   "id": "67d5112a-f3ef-451b-b9fb-3a6e0d1889b4",
   "metadata": {},
   "outputs": [],
   "source": [
    "# gas_used\n",
    "plt.figure(figsize=(10, 6))\n",
    "plt.hist(payload_df_drop['block_timestamp_seconds'] / 3600, bins=range(0, 25), weights=payload_df_drop['gas_used']/n_days, edgecolor='black', alpha=0.7)\n",
    "\n",
    "plt.title('Histogram of gas_used by Block Timestamp (hours)')\n",
    "plt.xlabel('Block Timestamp (hours)')\n",
    "plt.ylabel('gas_used')\n",
    "\n",
    "plt.show()"
   ]
  },
  {
   "cell_type": "markdown",
   "id": "81e884b0-26a0-4994-bb4c-f0d04e5509fd",
   "metadata": {},
   "source": [
    "### 1-2 Correlation matrix"
   ]
  },
  {
   "cell_type": "code",
   "execution_count": null,
   "id": "c7f21190-add0-45fe-96fa-1a73ab9eba0f",
   "metadata": {},
   "outputs": [],
   "source": [
    "# matrix\n",
    "numeric_cols = ['gas_used', 'value', 'num_tx', 'block_timestamp_seconds']\n",
    "\n",
    "corr_matrix = payload_df_drop[numeric_cols].corr()\n",
    "\n",
    "plt.figure(figsize=(10, 8))\n",
    "sns.heatmap(corr_matrix, annot=True, cmap='coolwarm', vmin=-1, vmax=1)\n",
    "plt.title('Correlation Matrix')\n",
    "plt.show()"
   ]
  },
  {
   "attachments": {},
   "cell_type": "markdown",
   "id": "a287bfb8-a6a2-4ee7-b03e-2b1622d7a615",
   "metadata": {},
   "source": [
    "### 1-3 Those charts depict trends in value, number of transactions, and gas used over an 8-month period.\n",
    "Select payloads data from 2024-03-24 to 2023-07-22, filtering those with block numbers ending in 00 or 50\r\n"
   ]
  },
  {
   "cell_type": "code",
   "execution_count": null,
   "id": "0e514f16-15e0-4ffb-841f-238d792702ee",
   "metadata": {},
   "outputs": [],
   "source": [
    "# value\n",
    "df = df.drop_duplicates(subset=['block_timestamp'])\n",
    "df = df.sort_values(by='block_timestamp')\n",
    "\n",
    "plt.figure(figsize=(10, 6))\n",
    "plt.scatter(df['block_timestamp'], df['value'], marker='o')\n",
    "plt.yticks([])\n",
    "\n",
    "plt.title('Trend of Value over Time')\n",
    "plt.xlabel('Block Timestamp')\n",
    "plt.ylabel('Value')\n",
    "\n",
    "plt.gcf().autofmt_xdate()\n",
    "\n",
    "plt.show()"
   ]
  },
  {
   "cell_type": "code",
   "execution_count": null,
   "id": "242d0a2c-862f-4035-9f43-239a6155d26e",
   "metadata": {},
   "outputs": [],
   "source": [
    "# gas_used\n",
    "df_daily_mean = df.groupby(df['block_timestamp'].dt.date)['gas_used'].mean().reset_index()\n",
    "plt.figure(figsize=(10, 6))\n",
    "plt.fill_between(df_daily_mean['block_timestamp'], df_daily_mean['gas_used'], color='skyblue', alpha=0.3)\n",
    "plt.plot(df_daily_mean['block_timestamp'], df_daily_mean['gas_used'], marker='o', color='blue')\n",
    "plt.yticks([])\n",
    "\n",
    "plt.title('Trend of gas_used over Time')\n",
    "plt.xlabel('Block Timestamp')\n",
    "plt.ylabel('gas_used')\n",
    "\n",
    "plt.gcf().autofmt_xdate()\n",
    "\n",
    "plt.show()"
   ]
  },
  {
   "cell_type": "code",
   "execution_count": null,
   "id": "9c687dce-dda4-4027-955d-80360df9233d",
   "metadata": {},
   "outputs": [],
   "source": [
    "# gas_used\n",
    "df_daily_mean = df.groupby(df['block_timestamp'].dt.date)['gas_used'].mean().reset_index()\n",
    "plt.figure(figsize=(10, 6))\n",
    "plt.fill_between(df_daily_mean['block_timestamp'], df_daily_mean['gas_used'], color='skyblue', alpha=0.3)\n",
    "plt.plot(df_daily_mean['block_timestamp'], df_daily_mean['gas_used'], marker='o', color='blue')\n",
    "plt.yticks([])\n",
    "\n",
    "plt.title('Trend of gas_used over Time')\n",
    "plt.xlabel('Block Timestamp')\n",
    "plt.ylabel('gas_used')\n",
    "\n",
    "plt.gcf().autofmt_xdate()\n",
    "\n",
    "plt.show()"
   ]
  },
  {
   "cell_type": "markdown",
   "id": "7e1a6558-d24d-45f1-9dec-55f234cd7e70",
   "metadata": {},
   "source": [
    "### 1-4 Distribution of num_tx and gas_used"
   ]
  },
  {
   "cell_type": "code",
   "execution_count": null,
   "id": "5945cc74-6878-4342-9382-5f0d7f47cd3f",
   "metadata": {},
   "outputs": [],
   "source": [
    "#num_tx\n",
    "print(\"num_tx:\")\n",
    "print(\"mode =\", df['num_tx'].mode())\n",
    "print(\"median =\", df['num_tx'].median())\n",
    "print(\"mean =\", df['num_tx'].mean())\n",
    "print(\"std =\", df['num_tx'].std())\n",
    "print(\"skewness =\", df['num_tx'].skew())\n",
    "print(\"kurtosis =\", df['num_tx'].kurt())\n",
    "\n",
    "plt.figure(figsize=(10, 6))\n",
    "plt.hist(df['num_tx'], bins=30, density=True, alpha=0.7)\n",
    "plt.yticks([])\n",
    "\n",
    "plt.title('Probability Density of num_tx')\n",
    "plt.xlabel('num_tx')\n",
    "plt.ylabel('Density')\n",
    "plt.show()"
   ]
  },
  {
   "cell_type": "code",
   "execution_count": null,
   "id": "3641f089-4306-47dd-8068-fc38f2bb6402",
   "metadata": {},
   "outputs": [],
   "source": [
    "#gas_used\n",
    "print(\"gas_used:\")\n",
    "print(\"median =\", df['gas_used'].median())\n",
    "print(\"mean =\", df['gas_used'].mean())\n",
    "print(\"std =\", df['gas_used'].std())\n",
    "print(\"skewness =\", df['gas_used'].skew())\n",
    "print(\"kurtosis =\", df['gas_used'].kurt())\n",
    "\n",
    "plt.figure(figsize=(10, 6))\n",
    "plt.hist(df['gas_used'], bins=30, density=True, alpha=0.7)\n",
    "plt.yticks([])\n",
    "\n",
    "plt.title('Probability Density of gas_used')\n",
    "plt.xlabel('gas_used')\n",
    "plt.ylabel('Density')\n",
    "plt.show()"
   ]
  },
  {
   "cell_type": "markdown",
   "id": "25c6421c-94b7-49fd-82a9-412f5daed57c",
   "metadata": {},
   "source": [
    "# 2. EDA of MEV-boost Bids"
   ]
  },
  {
   "attachments": {},
   "cell_type": "markdown",
   "id": "01a93314-d8bc-4169-a736-e10c51ce856b",
   "metadata": {},
   "source": [
    "### 2-1 Duplicate block_hash and rows in each block number\n",
    "Dataset is between 2024-03-24 16:41:35 and 2024-03-24 23:56:59\n",
    "9"
   ]
  },
  {
   "cell_type": "code",
   "execution_count": null,
   "id": "574da3ed-07f9-46f6-9566-5e03799f96cb",
   "metadata": {},
   "outputs": [],
   "source": [
    "# block_hash count\n",
    "block_hash_counts = bids_df['block_hash'].value_counts()\n",
    "\n",
    "block_hash_counts_df = block_hash_counts.reset_index()\n",
    "block_hash_counts_df.columns = ['block_hash', 'count']\n",
    "\n",
    "distinct_block_hash = bids_df['block_hash'].nunique()\n",
    "print(f\"Distinct_block_hashs: {distinct_block_hash}\")\n",
    "\n",
    "plt.figure(figsize=(10, 6))\n",
    "sns.histplot(block_hash_counts_df['count'], kde=True, bins=30)\n",
    "plt.title('Density Distribution of block_hash')\n",
    "plt.xlabel('Count')\n",
    "plt.ylabel('Density')\n",
    "plt.grid(True)\n",
    "plt.show()"
   ]
  },
  {
   "cell_type": "code",
   "execution_count": null,
   "id": "803158b5-436d-4c76-b4fb-b3a77d2f1964",
   "metadata": {},
   "outputs": [],
   "source": [
    "# block_number count\n",
    "block_number_counts = bids_df['block_number'].value_counts()\n",
    "\n",
    "block_number_counts_df = block_number_counts.reset_index()\n",
    "block_number_counts_df.columns = ['block_number', 'count']\n",
    "\n",
    "distinct_block_numbers = bids_df['block_number'].nunique()\n",
    "print(f\"Distinct block numbers: {distinct_block_numbers}\")\n",
    "\n",
    "plt.figure(figsize=(10, 6))\n",
    "sns.histplot(block_number_counts_df['count'], kde=True, bins=30)\n",
    "plt.title('Density Distribution of block_number')\n",
    "plt.xlabel('Count')\n",
    "plt.ylabel('Density')\n",
    "plt.grid(True)\n",
    "plt.show()"
   ]
  },
  {
   "cell_type": "markdown",
   "id": "03b36a0c-a65a-434d-94d7-2a1c0b5cfc43",
   "metadata": {},
   "source": [
    "# 3. Find winner blocks"
   ]
  },
  {
   "cell_type": "markdown",
   "id": "93ad6525-d065-49a6-91ec-585ff6b96bea",
   "metadata": {},
   "source": [
    "### 3-1 Inner join of payments data and bids data >>> matched_df"
   ]
  },
  {
   "cell_type": "code",
   "execution_count": null,
   "id": "2e940bf7-9d1c-4bd0-968a-6812f157a28c",
   "metadata": {},
   "outputs": [],
   "source": [
    "matched_df = pd.merge(bids_df, payload_df, on=['block_hash'], how='inner')\n",
    "row_count = matched_df.shape[0]\n",
    "print( row_count)\n",
    "matched_df.dtypes"
   ]
  },
  {
   "cell_type": "code",
   "execution_count": null,
   "id": "393f98a2-1bff-4dc8-b9d0-31ddca4aa219",
   "metadata": {},
   "outputs": [],
   "source": [
    "distinct_winner_block = matched_df['block_number_x'].nunique()\n",
    "print(f\"Distinct winner block numbers: {distinct_winner_block}\")"
   ]
  },
  {
   "cell_type": "markdown",
   "id": "99ee8af2-37ba-4d5d-8fab-9b9374e45119",
   "metadata": {},
   "source": [
    "### 3-2 Block timestamp - Timestamp ????? Delay ?????"
   ]
  },
  {
   "cell_type": "code",
   "execution_count": null,
   "id": "01fb6e86-82e1-4778-81f7-b948fb37328f",
   "metadata": {},
   "outputs": [],
   "source": [
    "bids_df['time_difference'] = (bids_df['block_timestamp'] - bids_df['timestamp']).dt.total_seconds()\n",
    "\n",
    "average_seconds = bids_df['time_difference'].mean()\n",
    "print(f\"The average time difference in all bids is: {average_seconds}\")\n",
    "\n",
    "#winner bids\n",
    "matched_df['time_difference'] = (matched_df['block_timestamp_x'] - matched_df['timestamp']).dt.total_seconds()\n",
    "\n",
    "average_seconds_winner = matched_df['time_difference'].mean()\n",
    "print(f\"The average time difference in winners is: {average_seconds_winner}\")"
   ]
  }
 ],
 "metadata": {
  "kernelspec": {
   "display_name": "Python 3 (ipykernel)",
   "language": "python",
   "name": "python3"
  },
  "language_info": {
   "codemirror_mode": {
    "name": "ipython",
    "version": 3
   },
   "file_extension": ".py",
   "mimetype": "text/x-python",
   "name": "python",
   "nbconvert_exporter": "python",
   "pygments_lexer": "ipython3",
   "version": "3.11.5"
  }
 },
 "nbformat": 4,
 "nbformat_minor": 5
}
